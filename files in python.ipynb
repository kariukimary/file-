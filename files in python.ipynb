{
 "cells": [
  {
   "cell_type": "markdown",
   "id": "66a9e7e1",
   "metadata": {},
   "source": [
    "# files in python"
   ]
  },
  {
   "cell_type": "markdown",
   "id": "faeed4f9",
   "metadata": {},
   "source": [
    "1.) Write a progam that reads through the file and count each line in a file"
   ]
  },
  {
   "cell_type": "code",
   "execution_count": 12,
   "id": "c0d21db3",
   "metadata": {},
   "outputs": [
    {
     "name": "stdout",
     "output_type": "stream",
     "text": [
      "87\n"
     ]
    }
   ],
   "source": [
    "fhand=open(\"From stephen.txt\")\n",
    "count=0\n",
    "for i in fhand:\n",
    "    count=count+1\n",
    "print(count)"
   ]
  },
  {
   "cell_type": "markdown",
   "id": "1c7298e6",
   "metadata": {},
   "source": [
    "2.)Write a program to prompt for a file name, and then read\n",
    "through the file and look for lines of the form:\n",
    "X-DSPAM-Confidence: 0.8475"
   ]
  },
  {
   "cell_type": "code",
   "execution_count": 10,
   "id": "e1a89dfa",
   "metadata": {},
   "outputs": [
    {
     "name": "stdout",
     "output_type": "stream",
     "text": [
      "enter the file nameFrom stephen.txt\n",
      "X-DSPAM-Confidence: 0.8475\n",
      "\n"
     ]
    }
   ],
   "source": [
    "fname=input(\"enter the file name\")\n",
    "fhand=open(fname)\n",
    "for line in fhand:\n",
    "    if line.find(\"X-DSPAM-Confidence: 0.8475\") ==-1: \n",
    "        continue\n",
    "    print(line)\n",
    "\n"
   ]
  },
  {
   "cell_type": "markdown",
   "id": "bfef77f5",
   "metadata": {},
   "source": [
    "3.)using try and the except block write a program that prompts the user to enter the name of the file and counts the number of line that have the word \"subject\""
   ]
  },
  {
   "cell_type": "code",
   "execution_count": 11,
   "id": "b1f53643",
   "metadata": {},
   "outputs": [
    {
     "name": "stdout",
     "output_type": "stream",
     "text": [
      "enter the nameFrom stephen.txt\n",
      "There were 1 subject lines in From stephen.txt\n"
     ]
    }
   ],
   "source": [
    "fname=input(\"enter the name\")\n",
    "try:\n",
    "    fhand=open(fname)\n",
    "except:\n",
    "    print(\"enter the correct file\")\n",
    "    exit()\n",
    "count=0\n",
    "for line in fhand:\n",
    "    if line.startswith(\"Subject:\"):\n",
    "        count=count+1\n",
    "print('There were', count, 'subject lines in', fname)"
   ]
  },
  {
   "cell_type": "code",
   "execution_count": null,
   "id": "4318e1e4",
   "metadata": {},
   "outputs": [],
   "source": []
  },
  {
   "cell_type": "code",
   "execution_count": null,
   "id": "4dd78dbd",
   "metadata": {},
   "outputs": [],
   "source": []
  }
 ],
 "metadata": {
  "kernelspec": {
   "display_name": "Python 3 (ipykernel)",
   "language": "python",
   "name": "python3"
  },
  "language_info": {
   "codemirror_mode": {
    "name": "ipython",
    "version": 3
   },
   "file_extension": ".py",
   "mimetype": "text/x-python",
   "name": "python",
   "nbconvert_exporter": "python",
   "pygments_lexer": "ipython3",
   "version": "3.9.7"
  }
 },
 "nbformat": 4,
 "nbformat_minor": 5
}
